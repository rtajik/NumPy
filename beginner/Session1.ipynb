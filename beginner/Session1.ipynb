{
 "cells": [
  {
   "cell_type": "markdown",
   "id": "280ebee1",
   "metadata": {},
   "source": [
    "# NumPy Beginner Tutorial – Session 1"
   ]
  },
  {
   "cell_type": "code",
   "execution_count": 214,
   "id": "21414cb1",
   "metadata": {},
   "outputs": [],
   "source": [
    "import numpy as np"
   ]
  },
  {
   "cell_type": "markdown",
   "id": "6769c981",
   "metadata": {},
   "source": [
    "## create 1D array, Vector, matrix (2D array) and Tensor (3 and more dimension array)"
   ]
  },
  {
   "cell_type": "code",
   "execution_count": 215,
   "id": "32f9519e",
   "metadata": {},
   "outputs": [
    {
     "data": {
      "text/plain": [
       "array([[1, 2, 3],\n",
       "       [4, 5, 6]])"
      ]
     },
     "execution_count": 215,
     "metadata": {},
     "output_type": "execute_result"
    }
   ],
   "source": [
    "arr2D = np.array([[1, 2, 3], [4, 5, 6]])\n",
    "arr2D"
   ]
  },
  {
   "cell_type": "markdown",
   "id": "8b3b5b67",
   "metadata": {},
   "source": [
    "## Shape, size and ndim"
   ]
  },
  {
   "cell_type": "code",
   "execution_count": 216,
   "id": "054c6961",
   "metadata": {},
   "outputs": [
    {
     "name": "stdout",
     "output_type": "stream",
     "text": [
      "(2, 3)\n",
      "6\n",
      "2\n"
     ]
    }
   ],
   "source": [
    "print(arr2D.shape)  # This will show (2,3) meaning matrix (2D or more dimension array)\n",
    "print(arr2D.size)  # This will show 6 meaning total 6 elements\n",
    "print(arr2D.ndim)  # This will show 2 meaning 2 dimension"
   ]
  },
  {
   "cell_type": "code",
   "execution_count": 217,
   "id": "a65d5264",
   "metadata": {},
   "outputs": [
    {
     "data": {
      "text/plain": [
       "array([1. , 1.5, 2. , 2.5, 3. , 3.5, 4. , 4.5, 5. , 5.5, 6. , 6.5, 7. ,\n",
       "       7.5, 8. , 8.5, 9. , 9.5])"
      ]
     },
     "execution_count": 217,
     "metadata": {},
     "output_type": "execute_result"
    }
   ],
   "source": [
    "arr1D = np.arange(1, 10, 0.5)\n",
    "arr1D"
   ]
  },
  {
   "cell_type": "markdown",
   "id": "12bd060b",
   "metadata": {},
   "source": [
    "### Difference Between 1D Array and Vector (2D array with 1xm or nx1) and 2D Array (Matrix)"
   ]
  },
  {
   "cell_type": "code",
   "execution_count": 218,
   "id": "c19f3ecf",
   "metadata": {},
   "outputs": [
    {
     "name": "stdout",
     "output_type": "stream",
     "text": [
      "(18,)\n",
      "18\n",
      "1\n"
     ]
    }
   ],
   "source": [
    "print(arr1D.shape)  # This will show (18,) meaning vector (1D array) with 18 elements\n",
    "print(arr1D.size)  # This will show 18 meaning total 18 elements\n",
    "print(arr1D.ndim)  # This will show 1 meaning 1 dimension"
   ]
  },
  {
   "cell_type": "markdown",
   "id": "af8377e8",
   "metadata": {},
   "source": [
    "### But for better understanding let's see the difference between 1D array (vector) and 2D array (matrix)"
   ]
  },
  {
   "cell_type": "code",
   "execution_count": 219,
   "id": "1b628f46",
   "metadata": {},
   "outputs": [
    {
     "name": "stdout",
     "output_type": "stream",
     "text": [
      "(1, 18)\n",
      "18\n",
      "2\n"
     ]
    }
   ],
   "source": [
    "arr02D = arr1D.reshape(1, 18)  # 1 row, 18 columns\n",
    "print(\n",
    "    arr02D.shape\n",
    ")  # This will show (1,18) meaning matrix (2D array) with 1 row and 18 columns\n",
    "print(arr02D.size)  # This will show 18 meaning total 18 elements\n",
    "print(arr02D.ndim)  # This will show 2 meaning 2 dimension"
   ]
  },
  {
   "cell_type": "markdown",
   "id": "7f9f8d4b",
   "metadata": {},
   "source": [
    "### Or"
   ]
  },
  {
   "cell_type": "code",
   "execution_count": 220,
   "id": "3dc974a7",
   "metadata": {},
   "outputs": [
    {
     "name": "stdout",
     "output_type": "stream",
     "text": [
      "(18, 1)\n",
      "18\n",
      "2\n"
     ]
    }
   ],
   "source": [
    "arr002D = arr1D.reshape(18, 1)  # 18 rows, 1 column\n",
    "print(\n",
    "    arr002D.shape\n",
    ")  # This will show (18,1) meaning matrix (2D array) with 18 rows and 1 column\n",
    "print(arr002D.size)  # This will show 18 meaning total 18 elements\n",
    "print(arr002D.ndim)  # This will show 2 meaning 2 dimension"
   ]
  },
  {
   "cell_type": "markdown",
   "id": "96dcaaf2",
   "metadata": {},
   "source": [
    "## Matrix"
   ]
  },
  {
   "cell_type": "code",
   "execution_count": 221,
   "id": "ac6b7e73",
   "metadata": {},
   "outputs": [
    {
     "name": "stdout",
     "output_type": "stream",
     "text": [
      "(6, 3)\n",
      "18\n",
      "2\n"
     ]
    }
   ],
   "source": [
    "arr0002D = arr1D.reshape(6, 3)  # 6 rows, 3 column\n",
    "print(\n",
    "    arr0002D.shape\n",
    ")  # This will show (6,3) meaning matrix (2D array) with 6 rows and 3 column\n",
    "print(arr0002D.size)  # This will show 18 meaning total 18 elements\n",
    "print(arr0002D.ndim)  # This will show 2 meaning 2 dimension"
   ]
  },
  {
   "cell_type": "markdown",
   "id": "4d46ce38",
   "metadata": {},
   "source": [
    "## Tensor"
   ]
  },
  {
   "cell_type": "code",
   "execution_count": 222,
   "id": "c26e0445",
   "metadata": {},
   "outputs": [
    {
     "name": "stdout",
     "output_type": "stream",
     "text": [
      "(2, 3, 3)\n",
      "18\n",
      "3\n"
     ]
    }
   ],
   "source": [
    "arr3D = arr1D.reshape(2, 3, 3)  # 2 rows, 3 column, 3 depth\n",
    "print(\n",
    "    arr3D.shape\n",
    ")  # This will show (2,3,3) meaning tensor (3D array) with 2 rows, 3 column and 3 depth\n",
    "print(arr3D.size)  # This will show 18 meaning total 18 elements\n",
    "print(arr3D.ndim)  # This will show 3 meaning 3 dimension"
   ]
  },
  {
   "cell_type": "code",
   "execution_count": 223,
   "id": "b0bb3c93",
   "metadata": {},
   "outputs": [
    {
     "name": "stdout",
     "output_type": "stream",
     "text": [
      "(2, 3, 3, 1)\n",
      "18\n",
      "4\n"
     ]
    }
   ],
   "source": [
    "arr4D = arr1D.reshape(2, 3, 3, 1)  # 2 rows, 3 column, 3 depth, 1 depth\n",
    "print(\n",
    "    arr4D.shape\n",
    ")  # This will show (2,3,3,1) meaning tensor (4D array) with 2 rows, 3 column and 3 depth and 1 depth\n",
    "print(arr4D.size)  # This will show 18 meaning total 18 elements\n",
    "print(arr4D.ndim)  # This will show 4 meaning 4 dimension"
   ]
  },
  {
   "cell_type": "markdown",
   "id": "7e57b975",
   "metadata": {},
   "source": [
    "## Shape (:,-1)"
   ]
  },
  {
   "cell_type": "code",
   "execution_count": 224,
   "id": "77f08305",
   "metadata": {},
   "outputs": [
    {
     "name": "stdout",
     "output_type": "stream",
     "text": [
      "(2, 3, 3)\n",
      "18\n",
      "3\n"
     ]
    }
   ],
   "source": [
    "arr03D = arr1D.reshape(2, 3, -1)  # 2 rows, 3 column, depth inferred\n",
    "print(\n",
    "    arr03D.shape\n",
    ")  # This will show (2,3,3) meaning tensor (3D array) with 2 rows, 3 column and 3 depth\n",
    "print(arr03D.size)  # This will show 18 meaning total 18 elements\n",
    "print(arr03D.ndim)  # This will show 3 meaning 3 dimension"
   ]
  },
  {
   "cell_type": "markdown",
   "id": "b8a39514",
   "metadata": {},
   "source": [
    "## concatenate((.), axis=Ax)"
   ]
  },
  {
   "cell_type": "code",
   "execution_count": 225,
   "id": "a984c18e",
   "metadata": {},
   "outputs": [
    {
     "name": "stdout",
     "output_type": "stream",
     "text": [
      "(18,) (2, 3)\n",
      "(36,) (36, 1) (18, 2)\n"
     ]
    }
   ],
   "source": [
    "arr1 = np.arange(1, 10, 0.5)\n",
    "arr2 = np.arange(10, 19, 0.5)\n",
    "print(arr1.shape, arr2D.shape)\n",
    "arr_concat1 = np.concatenate((arr1, arr2), axis=0)  # concatenate as 1D arrays\n",
    "arr_concat01 = np.concatenate(\n",
    "    (arr1.reshape(-1, 1), arr2.reshape(-1, 1)), axis=0\n",
    ")  # concatenate as column vectors\n",
    "arr_concat2 = np.concatenate(\n",
    "    (arr1.reshape(-1, 1), arr2.reshape(-1, 1)), axis=1\n",
    ")  # concatenate as row vectors\n",
    "print(arr_concat1.shape, arr_concat01.shape, arr_concat2.shape)"
   ]
  },
  {
   "cell_type": "code",
   "execution_count": 226,
   "id": "627ff4dc",
   "metadata": {},
   "outputs": [
    {
     "name": "stdout",
     "output_type": "stream",
     "text": [
      "(36, 1) (18, 2)\n"
     ]
    }
   ],
   "source": [
    "arr_vertical = np.vstack((arr1.reshape(-1, 1), arr2.reshape(-1, 1)))  # vertical stack as column vectors (One below another)\n",
    "arr_horizontal = np.hstack((arr1.reshape(-1, 1), arr2.reshape(-1, 1)))  # horizontal stack as row vectors (Beside each other)\n",
    "print(arr_vertical.shape, arr_horizontal.shape)"
   ]
  },
  {
   "cell_type": "markdown",
   "id": "6e409c1a",
   "metadata": {},
   "source": [
    "# Broadcasting in NumPy\n",
    "### Broadcasting is a powerful mechanism that allows NumPy to perform operations on arrays of different shapes in a way that makes sense mathematically."
   ]
  },
  {
   "cell_type": "code",
   "execution_count": 227,
   "id": "7a34c7a0",
   "metadata": {},
   "outputs": [],
   "source": [
    "arr1 = np.array([1, 2, 3])\n",
    "arr2 = np.array([3, 5, 8])\n",
    "arr3 = np.array([10])"
   ]
  },
  {
   "cell_type": "markdown",
   "id": "a6b3d5b9",
   "metadata": {},
   "source": [
    "### element-wise sum"
   ]
  },
  {
   "cell_type": "code",
   "execution_count": 228,
   "id": "30ddf108",
   "metadata": {},
   "outputs": [
    {
     "data": {
      "text/plain": [
       "array([ 4,  7, 11])"
      ]
     },
     "execution_count": 228,
     "metadata": {},
     "output_type": "execute_result"
    }
   ],
   "source": [
    "arr_broadcast_sum1 = arr1 + arr2  # element-wise addition\n",
    "arr_broadcast_sum1"
   ]
  },
  {
   "cell_type": "markdown",
   "id": "70977f8d",
   "metadata": {},
   "source": [
    "### broadcasting sum"
   ]
  },
  {
   "cell_type": "code",
   "execution_count": 229,
   "id": "9dde05cb",
   "metadata": {},
   "outputs": [
    {
     "data": {
      "text/plain": [
       "array([11, 12, 13])"
      ]
     },
     "execution_count": 229,
     "metadata": {},
     "output_type": "execute_result"
    }
   ],
   "source": [
    "arr_broadcast_sum2 = arr1 + arr3  # broadcasting addition\n",
    "arr_broadcast_sum2"
   ]
  },
  {
   "cell_type": "markdown",
   "id": "ec60ac82",
   "metadata": {},
   "source": [
    "## Sliced Arrays list_name[start_index:end_index:step] "
   ]
  },
  {
   "cell_type": "code",
   "execution_count": 230,
   "id": "5c06b401",
   "metadata": {},
   "outputs": [
    {
     "name": "stdout",
     "output_type": "stream",
     "text": [
      "[1.  1.5 2.  2.5 3.  3.5 4.  4.5 5.  5.5 6.  6.5 7.  7.5 8.  8.5 9.  9.5]\n",
      "[3.5 4.  4.5 5. ]\n",
      "[1. 2. 3. 4. 5. 6. 7. 8. 9.]\n",
      "[7.5 8.  8.5 9.  9.5]\n",
      "[7.5 7.  6.5 6.  5.5 5.  4.5 4.  3.5 3.  2.5 2.  1.5 1. ]\n"
     ]
    }
   ],
   "source": [
    "arr1 = np.arange(1, 10, 0.5)\n",
    "arr2 = arr1[5:9]  # slicing from index 5 to 8\n",
    "arr3 = arr1[::2]  # slicing every second element\n",
    "arr4 = arr1[-5:]  # slicing last 5 elements\n",
    "arr5 = arr1[-5::-1]  # slicing last 5 elements in reverse order\n",
    "print(arr1, arr2, arr3, arr4, arr5, sep=\"\\n\")"
   ]
  },
  {
   "cell_type": "markdown",
   "id": "e3b3bfa6",
   "metadata": {},
   "source": [
    "## random numbers"
   ]
  },
  {
   "cell_type": "code",
   "execution_count": 231,
   "id": "36c2b191",
   "metadata": {},
   "outputs": [],
   "source": [
    "rn = np.random.randn(\n",
    "    3, 4\n",
    ")  # generate random numbers from standard normal distribution in a 3x4 array\n",
    "r = np.random.rand(\n",
    "    3, 4\n",
    ")  # generate random numbers from uniform distribution [0,1) in a 3x4 array\n",
    "ri = np.random.randint(\n",
    "    1, 10, size=(3, 4)\n",
    ")  # generate random integers between 1 and 9 in a 3x4 array"
   ]
  },
  {
   "cell_type": "code",
   "execution_count": 232,
   "id": "9262f5f7",
   "metadata": {},
   "outputs": [
    {
     "name": "stdout",
     "output_type": "stream",
     "text": [
      "[[-1.14684361  0.05321626  1.1827419  -0.48443672]\n",
      " [ 1.4834781   1.12534856  0.43286956 -0.11057765]\n",
      " [ 1.10238056 -1.33273727 -0.06691798  0.39988253]]\n",
      "-1.3327372652948402\n",
      "1.4834781037441374\n",
      "0.2198670208769443\n",
      "0.2265493989319712\n",
      "0.875313144420679\n",
      "0.7661731007956164\n"
     ]
    }
   ],
   "source": [
    "rn_min = np.min(rn)  # minimum value in the array\n",
    "rn_max = np.max(rn)  # maximum value in the array\n",
    "rn_mean = np.mean(rn)  # mean value of the array\n",
    "rn_median = np.median(rn)  # median value of the array\n",
    "rn_var = np.var(rn)  # variance of the array\n",
    "rn_std = np.std(\n",
    "    rn\n",
    ")  # standard deviation of the array (a_var**0.5  # square root of variance to get standard deviation)\n",
    "print(rn, rn_min, rn_max, rn_mean, rn_median, rn_std, rn_var, sep=\"\\n\")"
   ]
  },
  {
   "cell_type": "code",
   "execution_count": 233,
   "id": "e95b53b4",
   "metadata": {},
   "outputs": [
    {
     "name": "stdout",
     "output_type": "stream",
     "text": [
      "[[-1.14684361  0.05321626  1.1827419  -0.48443672]\n",
      " [ 1.4834781   1.12534856  0.43286956 -0.11057765]\n",
      " [ 1.10238056 -1.33273727 -0.06691798  0.39988253]]\n",
      "[[-1.14684361 -0.48443672  0.05321626  1.1827419 ]\n",
      " [-0.11057765  0.43286956  1.12534856  1.4834781 ]\n",
      " [-1.33273727 -0.06691798  0.39988253  1.10238056]]\n",
      "[[0 3 1 2]\n",
      " [3 2 1 0]\n",
      " [1 2 3 0]]\n",
      "[[-1.14684361 -1.33273727 -0.06691798 -0.48443672]\n",
      " [ 1.10238056  0.05321626  0.43286956 -0.11057765]\n",
      " [ 1.4834781   1.12534856  1.1827419   0.39988253]]\n",
      "[[0 2 2 0]\n",
      " [2 0 1 1]\n",
      " [1 1 0 2]]\n",
      "[[-1.14684361 -0.48443672  0.05321626  1.1827419 ]\n",
      " [-0.11057765  0.43286956  1.12534856  1.4834781 ]\n",
      " [-1.33273727 -0.06691798  0.39988253  1.10238056]]\n",
      "[[0 3 1 2]\n",
      " [3 2 1 0]\n",
      " [1 2 3 0]]\n"
     ]
    }
   ],
   "source": [
    "rn_sorted = np.sort(rn)  # sorted array by rows (axis=-1)\n",
    "rn_rows_sorted = np.sort(rn, axis=0)  # sorted array by columns\n",
    "rn_columns_sorted = np.sort(rn, axis=1)  # sorted array by rows\n",
    "rn_arg_sorted = np.argsort(rn)  # indices that would sort the array by rows (axis=-1)\n",
    "rn_arg_rows_sorted = np.argsort(rn, axis=0)  # indices that would sort the array by columns\n",
    "rn_arg_columns_sorted = np.argsort(rn, axis=1)  # indices that would sort the array by rows\n",
    "\n",
    "print(rn, rn_sorted, rn_arg_sorted, rn_rows_sorted, rn_arg_rows_sorted, rn_columns_sorted, rn_arg_columns_sorted, sep=\"\\n\")"
   ]
  },
  {
   "cell_type": "markdown",
   "id": "89fe33ef",
   "metadata": {},
   "source": [
    "## Normalize array"
   ]
  },
  {
   "cell_type": "code",
   "execution_count": 234,
   "id": "e8258400",
   "metadata": {},
   "outputs": [
    {
     "data": {
      "text/plain": [
       "array([[-1.56139622, -0.19038987,  1.10003476, -0.8046306 ],\n",
       "       [ 1.44361031,  1.03446583,  0.24334439, -0.37751595],\n",
       "       [ 1.00822607, -1.7737701 , -0.32763703,  0.20565841]])"
      ]
     },
     "execution_count": 234,
     "metadata": {},
     "output_type": "execute_result"
    }
   ],
   "source": [
    "rn_Normalized = (rn - rn_mean) / rn_std  # normalizing the array\n",
    "rn_Normalized"
   ]
  },
  {
   "cell_type": "code",
   "execution_count": 235,
   "id": "1e0b2589",
   "metadata": {},
   "outputs": [
    {
     "name": "stdout",
     "output_type": "stream",
     "text": [
      "6.245004513516506e-17 0.9999999999999998\n"
     ]
    }
   ],
   "source": [
    "rn_Normalized_mean = np.mean(rn_Normalized)  # mean of normalized array\n",
    "rn_Normalized_std = np.std(rn_Normalized)  # standard deviation of normalized array\n",
    "print(rn_Normalized_mean, rn_Normalized_std)"
   ]
  },
  {
   "cell_type": "code",
   "execution_count": null,
   "id": "efd572cf",
   "metadata": {},
   "outputs": [],
   "source": []
  }
 ],
 "metadata": {
  "kernelspec": {
   "display_name": "SignalProcessing-env-3-13-7",
   "language": "python",
   "name": "python3"
  },
  "language_info": {
   "codemirror_mode": {
    "name": "ipython",
    "version": 3
   },
   "file_extension": ".py",
   "mimetype": "text/x-python",
   "name": "python",
   "nbconvert_exporter": "python",
   "pygments_lexer": "ipython3",
   "version": "3.13.7"
  }
 },
 "nbformat": 4,
 "nbformat_minor": 5
}
