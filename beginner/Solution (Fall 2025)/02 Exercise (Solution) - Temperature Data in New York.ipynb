{
 "cells": [
  {
   "cell_type": "code",
   "execution_count": 2,
   "id": "2c716269",
   "metadata": {},
   "outputs": [],
   "source": [
    "# Don't modify this cell, only run it.\n",
    "record_low_list = [-28, -22, -21, 9, 25, 35, 40, 34, 24, 16, -11, -22]"
   ]
  },
  {
   "cell_type": "code",
   "execution_count": 3,
   "id": "887c91c6",
   "metadata": {},
   "outputs": [],
   "source": [
    "# Import NumPy\n",
    "import numpy as np"
   ]
  },
  {
   "cell_type": "code",
   "execution_count": 4,
   "id": "bb741d17",
   "metadata": {},
   "outputs": [
    {
     "data": {
      "text/plain": [
       "array([-28, -22, -21,   9,  25,  35,  40,  34,  24,  16, -11, -22])"
      ]
     },
     "execution_count": 4,
     "metadata": {},
     "output_type": "execute_result"
    }
   ],
   "source": [
    "# Convert the \"list\" into a \"NumPy array\"\n",
    "record_low_F = np.array(record_low_list)\n",
    "record_low_F"
   ]
  },
  {
   "cell_type": "code",
   "execution_count": null,
   "id": "bd7059a2",
   "metadata": {},
   "outputs": [],
   "source": [
    "# Convert the data from Fahrenheit (F) to Celsius (C)\n",
    "record_low_C = 5 / 9 * (record_low_F - 32)"
   ]
  },
  {
   "cell_type": "code",
   "execution_count": null,
   "id": "aafeb926",
   "metadata": {},
   "outputs": [
    {
     "name": "stdout",
     "output_type": "stream",
     "text": [
      "[False False False False  True False False False False False False False]\n",
      "[False False False False False False False False  True False False False]\n",
      "[-3.88888889] [-4.44444444]\n",
      "[25] [24]\n"
     ]
    }
   ],
   "source": [
    "# Print out the record low degrees in Celsius in May and in September\n",
    "year_month = [\n",
    "    \"January\",\n",
    "    \"February\",\n",
    "    \"March\",\n",
    "    \"April\",\n",
    "    \"May\",\n",
    "    \"June\",\n",
    "    \"July\",\n",
    "    \"August\",\n",
    "    \"September\",\n",
    "    \"October\",\n",
    "    \"November\",\n",
    "    \"December\",\n",
    "]\n",
    "year_month = np.array(year_month)\n",
    "print(year_month == \"May\", year_month == \"September\", sep=\"\\n\")\n",
    "print(record_low_C[year_month == \"May\"], record_low_C[year_month == \"September\"])\n",
    "print(record_low_F[year_month == \"May\"], record_low_F[year_month == \"September\"])"
   ]
  },
  {
   "cell_type": "code",
   "execution_count": 7,
   "id": "6a7f2801",
   "metadata": {},
   "outputs": [],
   "source": [
    "Year = np.array(\n",
    "    [\n",
    "        [\"spring\", \"March\", \"April\", \"May\"],\n",
    "        [\"summer\", \"June\", \"July\", \"August\"],\n",
    "        [\"fall\", \"September\", \"October\", \"November\"],\n",
    "        [\"winter\", \"December\", \"January\", \"February\"],\n",
    "    ]\n",
    ")"
   ]
  },
  {
   "cell_type": "code",
   "execution_count": null,
   "id": "92c2a22f",
   "metadata": {},
   "outputs": [
    {
     "name": "stdout",
     "output_type": "stream",
     "text": [
      "[[-29.44 -12.78  -3.89]]\n"
     ]
    }
   ],
   "source": [
    "months = Year[Year[:, 0] == \"spring\", 1:]\n",
    "record_low_C_spring = np.array(\n",
    "    [record_low_C[year_month == Month] for Month in months[0]]\n",
    ").reshape(1, -1)\n",
    "print(record_low_C_spring.round(2))"
   ]
  },
  {
   "cell_type": "code",
   "execution_count": 9,
   "id": "83ddb459",
   "metadata": {},
   "outputs": [
    {
     "name": "stdout",
     "output_type": "stream",
     "text": [
      "[-33.33 -30.   -30.   -29.44 -23.89 -12.78  -8.89  -4.44  -3.89   1.11\n",
      "   1.67   4.44]\n"
     ]
    }
   ],
   "source": [
    "# Set up a new variable that is sorted\n",
    "record_low_C_sorted = np.sort(record_low_C)\n",
    "print(record_low_C_sorted.round(2))"
   ]
  },
  {
   "cell_type": "code",
   "execution_count": 10,
   "id": "dd8b70f8",
   "metadata": {},
   "outputs": [
    {
     "name": "stdout",
     "output_type": "stream",
     "text": [
      "max value is 4.44\n",
      "min value is -33.33\n"
     ]
    }
   ],
   "source": [
    "# Find the largest temperature\n",
    "record_low_C_max = np.max(record_low_C)\n",
    "print(f\"max value is {record_low_C_max.round(2)}\")\n",
    "# Find the Smallest temperature\n",
    "record_low_C_min = np.min(record_low_C)\n",
    "print(f\"min value is {record_low_C_min.round(2)}\")"
   ]
  },
  {
   "cell_type": "code",
   "execution_count": 11,
   "id": "6f9aa4d4",
   "metadata": {},
   "outputs": [
    {
     "name": "stdout",
     "output_type": "stream",
     "text": [
      "month with max value is ['July']\n",
      "month with min value is ['January']\n"
     ]
    }
   ],
   "source": [
    "# Find the month with the largest temperature\n",
    "months_low_C_max = year_month[record_low_C == np.max(record_low_C)]\n",
    "print(f\"month with max value is {months_low_C_max}\")\n",
    "# Find the month with the Smallest temperature\n",
    "months_low_C_min = year_month[record_low_C == np.min(record_low_C)]\n",
    "print(f\"month with min value is {months_low_C_min}\")"
   ]
  },
  {
   "cell_type": "code",
   "execution_count": 12,
   "id": "c539626d",
   "metadata": {},
   "outputs": [
    {
     "name": "stdout",
     "output_type": "stream",
     "text": [
      "-14.12\n"
     ]
    }
   ],
   "source": [
    "# Calculate the average Lowest temperature\n",
    "months_low_C_average = np.mean(record_low_C)\n",
    "print(months_low_C_average.round(2))"
   ]
  },
  {
   "cell_type": "code",
   "execution_count": null,
   "id": "bb9aae06",
   "metadata": {},
   "outputs": [
    {
     "name": "stdout",
     "output_type": "stream",
     "text": [
      "-15.37\n"
     ]
    }
   ],
   "source": [
    "# Calculate the average Lowest temperature in the spring\n",
    "months = Year[Year[:, 0] == \"spring\", 1:]\n",
    "record_low_C_spring_average = np.array(\n",
    "    [record_low_C[year_month == Month] for Month in months[0]]\n",
    ").mean()\n",
    "print(record_low_C_spring_average.round(2))"
   ]
  },
  {
   "cell_type": "code",
   "execution_count": 18,
   "id": "8839760e",
   "metadata": {},
   "outputs": [
    {
     "name": "stdout",
     "output_type": "stream",
     "text": [
      "-8.89\n",
      "-8.89\n"
     ]
    }
   ],
   "source": [
    "# Find value that is closest to -10\n",
    "num_target = -10\n",
    "rv = record_low_C - num_target\n",
    "rv_abs = np.abs(rv)\n",
    "rv_min = rv_abs.min()\n",
    "# print(record_low_C, rv, rv_abs,rv_min,rv_abs.argmin(), sep = \"\\n\")\n",
    "print(record_low_C[rv_abs.argmin()].round(2))\n",
    "# Or\n",
    "print(record_low_C[rv_abs == rv_abs.min()][0].round(2))\n",
    "\n",
    "# closest_num_target = record_low_C[np.abs(record_low_C - num_target) == np.abs(record_low_C - num_target).min()][0]\n",
    "\n",
    "# print(closest_num_target.round(2))"
   ]
  },
  {
   "cell_type": "code",
   "execution_count": null,
   "id": "826302e2",
   "metadata": {},
   "outputs": [],
   "source": []
  },
  {
   "cell_type": "code",
   "execution_count": null,
   "id": "88342c92",
   "metadata": {},
   "outputs": [],
   "source": []
  }
 ],
 "metadata": {
  "kernelspec": {
   "display_name": "SignalProcessing-env-3-13-7",
   "language": "python",
   "name": "python3"
  },
  "language_info": {
   "codemirror_mode": {
    "name": "ipython",
    "version": 3
   },
   "file_extension": ".py",
   "mimetype": "text/x-python",
   "name": "python",
   "nbconvert_exporter": "python",
   "pygments_lexer": "ipython3",
   "version": "3.13.7"
  }
 },
 "nbformat": 4,
 "nbformat_minor": 5
}
